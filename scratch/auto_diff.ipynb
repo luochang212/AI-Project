{
 "cells": [
  {
   "cell_type": "markdown",
   "id": "5eee6a20",
   "metadata": {},
   "source": [
    "# 自动微分\n",
    "\n",
    "链接：https://zh-v2.d2l.ai/chapter_preliminaries/autograd.html"
   ]
  },
  {
   "cell_type": "markdown",
   "id": "36bf06df",
   "metadata": {},
   "source": [
    "## 1. 一个简单例子"
   ]
  },
  {
   "cell_type": "code",
   "execution_count": 27,
   "id": "7176a216",
   "metadata": {},
   "outputs": [
    {
     "data": {
      "text/plain": [
       "tensor([0., 1., 2., 3.])"
      ]
     },
     "execution_count": 27,
     "metadata": {},
     "output_type": "execute_result"
    }
   ],
   "source": [
    "import torch\n",
    "\n",
    "x = torch.arange(4.0)\n",
    "x"
   ]
  },
  {
   "cell_type": "code",
   "execution_count": 28,
   "id": "acc2f54b",
   "metadata": {},
   "outputs": [
    {
     "data": {
      "text/plain": [
       "False"
      ]
     },
     "execution_count": 28,
     "metadata": {},
     "output_type": "execute_result"
    }
   ],
   "source": [
    "# help(x.requires_grad_)\n",
    "x.requires_grad"
   ]
  },
  {
   "cell_type": "code",
   "execution_count": 29,
   "id": "1ab8abf5",
   "metadata": {},
   "outputs": [],
   "source": [
    "x.requires_grad_(True)  # 允许在当前tensor张量存储梯度\n",
    "x.grad"
   ]
  },
  {
   "cell_type": "code",
   "execution_count": 30,
   "id": "668f97bf",
   "metadata": {},
   "outputs": [
    {
     "data": {
      "text/plain": [
       "tensor(28., grad_fn=<MulBackward0>)"
      ]
     },
     "execution_count": 30,
     "metadata": {},
     "output_type": "execute_result"
    }
   ],
   "source": [
    "y = 2 * torch.dot(x, x)  # 注意，一个标量函数关于向量x的梯度是向量，并且与x具有相同的形状。\n",
    "y"
   ]
  },
  {
   "cell_type": "code",
   "execution_count": 31,
   "id": "9531d8f8",
   "metadata": {},
   "outputs": [
    {
     "data": {
      "text/plain": [
       "tensor([ 0.,  4.,  8., 12.])"
      ]
     },
     "execution_count": 31,
     "metadata": {},
     "output_type": "execute_result"
    }
   ],
   "source": [
    "y.backward()  # 调用反向传播函数来自动计算y关于x每个分量的梯度\n",
    "x.grad"
   ]
  },
  {
   "cell_type": "markdown",
   "id": "c5028d0e",
   "metadata": {},
   "source": [
    "函数$y = 2x^{T}x$关于$x$的梯度应为$4x$"
   ]
  },
  {
   "cell_type": "code",
   "execution_count": 32,
   "id": "4ab83cc9",
   "metadata": {},
   "outputs": [
    {
     "data": {
      "text/plain": [
       "tensor([True, True, True, True])"
      ]
     },
     "execution_count": 32,
     "metadata": {},
     "output_type": "execute_result"
    }
   ],
   "source": [
    "x.grad == 4 * x"
   ]
  },
  {
   "cell_type": "markdown",
   "id": "606c870a",
   "metadata": {},
   "source": [
    "## 梯度的含义\n",
    "\n",
    "$y = x^2$ 的梯度为 $2x$"
   ]
  },
  {
   "cell_type": "code",
   "execution_count": null,
   "id": "3a1788db",
   "metadata": {},
   "outputs": [],
   "source": []
  },
  {
   "cell_type": "code",
   "execution_count": null,
   "id": "bae63ef8",
   "metadata": {},
   "outputs": [],
   "source": []
  },
  {
   "cell_type": "code",
   "execution_count": null,
   "id": "34cc2dc8",
   "metadata": {},
   "outputs": [],
   "source": []
  }
 ],
 "metadata": {
  "kernelspec": {
   "display_name": "Python 3 (ipykernel)",
   "language": "python",
   "name": "python3"
  },
  "language_info": {
   "codemirror_mode": {
    "name": "ipython",
    "version": 3
   },
   "file_extension": ".py",
   "mimetype": "text/x-python",
   "name": "python",
   "nbconvert_exporter": "python",
   "pygments_lexer": "ipython3",
   "version": "3.11.4"
  }
 },
 "nbformat": 4,
 "nbformat_minor": 5
}
