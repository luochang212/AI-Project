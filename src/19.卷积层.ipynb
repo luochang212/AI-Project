{
 "cells": [
  {
   "cell_type": "markdown",
   "id": "9f9dfa9d",
   "metadata": {},
   "source": [
    "# 卷积层\n",
    "\n",
    "一张 12,000,000 像素的猫或者狗的图片，分RGB三种颜色，如果使用单隐藏层的 MLP 处理，模型有 3.6B 个参数，远多于世界上所有猫和狗的数量。\n",
    "\n",
    "## 1. 识别器的原则\n",
    "\n",
    "- 平移不变性（在图片的哪个位置都能识别到）\n",
    "- 局部性（不需要看整张图就能识别）\n",
    "\n",
    "## 2. 重新考察全连接层\n",
    "\n",
    "- 将输入和输出变形为矩阵（宽度，高度）\n",
    "- 将权重变形为4-D张量 $(h, w)$ 到 $(h^\\prime, w^\\prime)$\n",
    "\n",
    "\n",
    "## 3. 原则 #1 - 平移不变性\n",
    "\n",
    "- x的平移导致h的平移\n",
    "- v不应该依赖于(i, j)\n",
    "- 解决方案：\n",
    "\n",
    "## 4. 原则 #2 - 局部性\n",
    "\n",
    "$h_{i,j} = \\sum_{a,b} \\mathbf{v}_{i,j,a,b} \\mathbf{x}_{i+a,j+b}$\n",
    "\n",
    "## 5. 小结\n",
    "\n",
    "- 对全连接层使用平移不变性和局部性得到卷积层\n",
    "\n",
    "$~~~~~~~~~~~h_{i,j} = \\sum_{a,b} \\mathbf{v}_{i,j,a,b} \\mathbf{x}_{i+a,j+b}$\n",
    "\n",
    "$~~~~~~~~~~~~~~~~~~~~~~~~~~~~~~~$⬇\n",
    "\n",
    "$~~~~~~~~~~~h_{i,j} = \\sum_{a=-\\Delta}^{\\Delta} \\sum_{b=-\\Delta}^{\\Delta} \\mathbf{v}_{a,b} \\mathbf{x}_{i+a,j+b}$\n",
    "\n",
    "## 6. 二维交叉相关\n",
    "\n",
    "- 卷积核 (Kernel)，其实就是 $\\mathbf{w}$\n",
    "- 核是不随扫描的位置变化的，这就实现了平移不变性\n",
    "\n",
    "## 7. 二维卷积层\n",
    "\n",
    "- 输入 $\\mathbf{X}: n_h \\times n_w$\n",
    "- 核 $\\mathbf{W}: k_h \\times k_w$\n",
    "- 偏差 $b \\in \\mathbb{R}$\n",
    "- 输出 $\\mathbf{Y}: (n_h - k_h + 1) \\times (n_w - k_w + 1)$\n",
    "\n",
    "$\\mathbf{Y} = \\mathbf{X} \\mathbf{W} + b$\n",
    "\n",
    "$\\mathbf{W}$ 和 $b$ 是可学习的参数\n",
    "\n",
    "## 8. 例子\n",
    "\n",
    "不同的卷积核，会得到不同的效果\n",
    "\n",
    "边缘检测\n",
    "\n",
    "$\\left[\\begin{array}{c}\n",
    "-1 & -1 & -1 \\\\\n",
    "-1 & 8 & -1 \\\\\n",
    "-1 & -1 & -1\n",
    "\\end{array}\\right]$\n",
    "\n",
    "锐化\n",
    "\n",
    "$\\left[\\begin{array}{c}\n",
    "0 & -1 & 0 \\\\\n",
    "-1 & 5 & -1 \\\\\n",
    "0 & -1 & 0\n",
    "\\end{array}\\right]$\n",
    "\n",
    "高斯模糊\n",
    "\n",
    "$\\frac{1}{16}\\left[\\begin{array}{c}\n",
    "1 & 2 & 1 \\\\\n",
    "2 & 4 & 2 \\\\\n",
    "1 & 2 & 1\n",
    "\\end{array}\\right]$\n",
    "\n",
    "## 9. 交叉相关 vs 卷积\n",
    "\n",
    "- 二维交叉相关\n",
    "- 二维卷积\n",
    "- 由于对称性，在实际使用中没有区别\n",
    "\n",
    "因为使用是一样的，所以没有使用数学上严格定义的卷积\n",
    "\n",
    "## 10. 一维和三维交叉相关\n",
    "\n",
    "- 一维：文本、语言、时需序列\n",
    "- 二维：视频、医学图像、气象图像\n",
    "\n",
    "## 11. 总结\n",
    "\n",
    "- 卷积层将输入和核矩阵进行交叉相关，加上偏移后得到输出\n",
    "- 核矩阵和偏移是可学习的参数\n",
    "- 核矩阵的大小是超参数\n"
   ]
  },
  {
   "cell_type": "markdown",
   "id": "72959c67",
   "metadata": {},
   "source": [
    "## 12. 互相关运算"
   ]
  },
  {
   "cell_type": "code",
   "execution_count": 1,
   "id": "7491752d",
   "metadata": {},
   "outputs": [],
   "source": [
    "import torch\n",
    "from torch import nn\n",
    "from d2l import torch as d2l\n",
    "\n",
    "def corr2d(X, K):\n",
    "    h, w = K.shape\n",
    "    Y = torch.zeros((X.shape[0] - h + 1, X.shape[1] - w + 1))\n",
    "    for i in range(Y.shape[0]):\n",
    "        for j in range(Y.shape[1]):\n",
    "            Y[i, j] = (X[i:i+h, j:j+w] * K).sum()\n",
    "    return Y"
   ]
  },
  {
   "cell_type": "markdown",
   "id": "3a0cf0fe",
   "metadata": {},
   "source": [
    "验证上述二维互相关运算的输出"
   ]
  },
  {
   "cell_type": "code",
   "execution_count": 2,
   "id": "da733ddc",
   "metadata": {},
   "outputs": [
    {
     "data": {
      "text/plain": [
       "tensor([[19., 25.],\n",
       "        [37., 43.]])"
      ]
     },
     "execution_count": 2,
     "metadata": {},
     "output_type": "execute_result"
    }
   ],
   "source": [
    "X = torch.tensor([[0.0, 1.0, 2.0], [3.0, 4.0, 5.0], [6.0, 7.0, 8.0]])\n",
    "K = torch.tensor([[0.0, 1.0], [2.0, 3.0]])\n",
    "corr2d(X, K)"
   ]
  },
  {
   "cell_type": "markdown",
   "id": "447a56e7",
   "metadata": {},
   "source": [
    "## 13. 实现二维卷积层"
   ]
  },
  {
   "cell_type": "code",
   "execution_count": 3,
   "id": "246427e5",
   "metadata": {},
   "outputs": [],
   "source": [
    "class Conv2D(nn.Module):\n",
    "    def __init__(self, kernel_size):\n",
    "        super().__init__()\n",
    "        self.weight = nn.Parameter(torcj.rand(kernel_size))\n",
    "        self.bias = nn.Parameter(torch.zeros(1))\n",
    "\n",
    "    def forward(self, x):\n",
    "        return corr2d(x, self.weight) + self.bias"
   ]
  },
  {
   "cell_type": "markdown",
   "id": "9f3d06b8",
   "metadata": {},
   "source": [
    "## 14. 卷积层的一个简单应用：检测图像中不同颜色的边缘"
   ]
  },
  {
   "cell_type": "code",
   "execution_count": 4,
   "id": "0fbe35c7",
   "metadata": {},
   "outputs": [
    {
     "data": {
      "text/plain": [
       "tensor([[1., 1., 0., 0., 0., 0., 1., 1.],\n",
       "        [1., 1., 0., 0., 0., 0., 1., 1.],\n",
       "        [1., 1., 0., 0., 0., 0., 1., 1.],\n",
       "        [1., 1., 0., 0., 0., 0., 1., 1.],\n",
       "        [1., 1., 0., 0., 0., 0., 1., 1.],\n",
       "        [1., 1., 0., 0., 0., 0., 1., 1.]])"
      ]
     },
     "execution_count": 4,
     "metadata": {},
     "output_type": "execute_result"
    }
   ],
   "source": [
    "X = torch.ones((6, 8))\n",
    "X[:, 2:6] = 0\n",
    "X"
   ]
  },
  {
   "cell_type": "code",
   "execution_count": 8,
   "id": "45573617",
   "metadata": {},
   "outputs": [
    {
     "data": {
      "text/plain": [
       "tensor([[ 0.,  1.,  0.,  0.,  0., -1.,  0.],\n",
       "        [ 0.,  1.,  0.,  0.,  0., -1.,  0.],\n",
       "        [ 0.,  1.,  0.,  0.,  0., -1.,  0.],\n",
       "        [ 0.,  1.,  0.,  0.,  0., -1.,  0.],\n",
       "        [ 0.,  1.,  0.,  0.,  0., -1.,  0.],\n",
       "        [ 0.,  1.,  0.,  0.,  0., -1.,  0.]])"
      ]
     },
     "execution_count": 8,
     "metadata": {},
     "output_type": "execute_result"
    }
   ],
   "source": [
    "K = torch.tensor([[1.0, -1.0]])\n",
    "Y = corr2d(X, K)\n",
    "Y"
   ]
  },
  {
   "cell_type": "markdown",
   "id": "c40f2154",
   "metadata": {},
   "source": [
    "卷积核K只可以检测垂直边缘，不能检测横向边"
   ]
  },
  {
   "cell_type": "code",
   "execution_count": 10,
   "id": "5d6c681d",
   "metadata": {},
   "outputs": [
    {
     "data": {
      "text/plain": [
       "tensor([[1., 1., 1., 1., 1., 1.],\n",
       "        [1., 1., 1., 1., 1., 1.],\n",
       "        [0., 0., 0., 0., 0., 0.],\n",
       "        [0., 0., 0., 0., 0., 0.],\n",
       "        [0., 0., 0., 0., 0., 0.],\n",
       "        [0., 0., 0., 0., 0., 0.],\n",
       "        [1., 1., 1., 1., 1., 1.],\n",
       "        [1., 1., 1., 1., 1., 1.]])"
      ]
     },
     "execution_count": 10,
     "metadata": {},
     "output_type": "execute_result"
    }
   ],
   "source": [
    "X.t()"
   ]
  },
  {
   "cell_type": "code",
   "execution_count": 11,
   "id": "5779fdf9",
   "metadata": {},
   "outputs": [
    {
     "data": {
      "text/plain": [
       "tensor([[0., 0., 0., 0., 0.],\n",
       "        [0., 0., 0., 0., 0.],\n",
       "        [0., 0., 0., 0., 0.],\n",
       "        [0., 0., 0., 0., 0.],\n",
       "        [0., 0., 0., 0., 0.],\n",
       "        [0., 0., 0., 0., 0.],\n",
       "        [0., 0., 0., 0., 0.],\n",
       "        [0., 0., 0., 0., 0.]])"
      ]
     },
     "execution_count": 11,
     "metadata": {},
     "output_type": "execute_result"
    }
   ],
   "source": [
    "corr2d(X.t(), K)"
   ]
  },
  {
   "cell_type": "markdown",
   "id": "dab7d949",
   "metadata": {},
   "source": [
    "## 15. 学习由 `X` 生成 `Y` 的卷积核"
   ]
  },
  {
   "cell_type": "code",
   "execution_count": 13,
   "id": "156187c2",
   "metadata": {},
   "outputs": [
    {
     "name": "stdout",
     "output_type": "stream",
     "text": [
      "batch 2, loss 6.775\n",
      "batch 4, loss 2.265\n",
      "batch 6, loss 0.842\n",
      "batch 8, loss 0.331\n",
      "batch 10, loss 0.133\n"
     ]
    }
   ],
   "source": [
    "conv2d = nn.Conv2d(1, 1, kernel_size=(1, 2), bias=False)\n",
    "\n",
    "X = X.reshape((1, 1, 6, 8))\n",
    "Y = Y.reshape((1, 1, 6, 7))\n",
    "\n",
    "for i in range(10):\n",
    "    Y_hat = conv2d(X)\n",
    "    l = (Y_hat - Y) ** 2\n",
    "    conv2d.zero_grad()\n",
    "    l.sum().backward()\n",
    "    conv2d.weight.data[:] -= 3e-2 * conv2d.weight.grad\n",
    "    if (i + 1) % 2 == 0:\n",
    "        print(f'batch {i+1}, loss {l.sum():.3f}')"
   ]
  },
  {
   "cell_type": "code",
   "execution_count": 19,
   "id": "f3ba6d9c",
   "metadata": {},
   "outputs": [
    {
     "data": {
      "text/plain": [
       "tensor([[ 0.9550, -1.0299]])"
      ]
     },
     "execution_count": 19,
     "metadata": {},
     "output_type": "execute_result"
    }
   ],
   "source": [
    "conv2d.weight.data.reshape((1, 2))"
   ]
  },
  {
   "cell_type": "code",
   "execution_count": null,
   "id": "e8d03613",
   "metadata": {},
   "outputs": [],
   "source": []
  },
  {
   "cell_type": "code",
   "execution_count": null,
   "id": "aa94edd4",
   "metadata": {},
   "outputs": [],
   "source": []
  },
  {
   "cell_type": "code",
   "execution_count": null,
   "id": "881655d1",
   "metadata": {},
   "outputs": [],
   "source": []
  }
 ],
 "metadata": {
  "kernelspec": {
   "display_name": "Python 3 (ipykernel)",
   "language": "python",
   "name": "python3"
  },
  "language_info": {
   "codemirror_mode": {
    "name": "ipython",
    "version": 3
   },
   "file_extension": ".py",
   "mimetype": "text/x-python",
   "name": "python",
   "nbconvert_exporter": "python",
   "pygments_lexer": "ipython3",
   "version": "3.11.4"
  }
 },
 "nbformat": 4,
 "nbformat_minor": 5
}
