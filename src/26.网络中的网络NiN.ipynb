{
 "cells": [
  {
   "cell_type": "markdown",
   "id": "8d01821a",
   "metadata": {},
   "source": [
    "# 网络中的网络NiN\n",
    "\n",
    "全连接层的问题\n",
    "\n",
    "- 卷积层需要较少的参数 $c_i \\times c_o \\times k^2$\n",
    "- 但卷积层后的第一个全连接层的参数\n",
    "    - LeNet $16*5*5*120=48k$\n",
    "    - AlexNet $256*5*5*4096=26M$\n",
    "    - VGG $512*7*7*4096=102M$\n",
    "    - 输入通道数$*$全连接层的长$*$全连接层的宽$*$输出通道数\n",
    "    \n",
    "\n",
    "## 1. NiN块\n",
    "\n",
    "- 一个卷积层后跟两个全连接层\n",
    "    - 步幅1，无填充，输出形状跟卷积层输出一样\n",
    "    - 起到全连接层的作用\n",
    "\n",
    "## 2. NiN架构\n",
    "\n",
    "- 无全连接层\n",
    "- 交替使用NiN块和步幅为2的最大池化层\n",
    "    - 逐步减小高宽和增大通道数\n",
    "- 最后使用全局平均池化层得到输出\n",
    "    - 其输入通道数是类别数\n",
    "\n",
    "## 3. 总结\n",
    "\n",
    "- NiN块使用卷积层加两个 1 $\\times$ 1 卷积层\n",
    "    - 后者对每个像素增加了非线性性\n",
    "- NiN使用全局平均池化层来替代VGG和AlexNet中的全连接层\n",
    "    - 不容易过拟合，更少的参数个数\n"
   ]
  },
  {
   "cell_type": "code",
   "execution_count": null,
   "id": "b5a9acdc",
   "metadata": {},
   "outputs": [],
   "source": []
  },
  {
   "cell_type": "code",
   "execution_count": null,
   "id": "a3d7db39",
   "metadata": {},
   "outputs": [],
   "source": []
  },
  {
   "cell_type": "code",
   "execution_count": null,
   "id": "b92fe0b6",
   "metadata": {},
   "outputs": [],
   "source": []
  },
  {
   "cell_type": "code",
   "execution_count": null,
   "id": "39cabb56",
   "metadata": {},
   "outputs": [],
   "source": []
  },
  {
   "cell_type": "code",
   "execution_count": null,
   "id": "299426f8",
   "metadata": {},
   "outputs": [],
   "source": []
  },
  {
   "cell_type": "code",
   "execution_count": null,
   "id": "4d7ee2ae",
   "metadata": {},
   "outputs": [],
   "source": []
  },
  {
   "cell_type": "code",
   "execution_count": null,
   "id": "c364046e",
   "metadata": {},
   "outputs": [],
   "source": []
  },
  {
   "cell_type": "code",
   "execution_count": null,
   "id": "23afa51e",
   "metadata": {},
   "outputs": [],
   "source": []
  },
  {
   "cell_type": "code",
   "execution_count": null,
   "id": "61837db8",
   "metadata": {},
   "outputs": [],
   "source": []
  }
 ],
 "metadata": {
  "kernelspec": {
   "display_name": "Python 3 (ipykernel)",
   "language": "python",
   "name": "python3"
  },
  "language_info": {
   "codemirror_mode": {
    "name": "ipython",
    "version": 3
   },
   "file_extension": ".py",
   "mimetype": "text/x-python",
   "name": "python",
   "nbconvert_exporter": "python",
   "pygments_lexer": "ipython3",
   "version": "3.11.4"
  }
 },
 "nbformat": 4,
 "nbformat_minor": 5
}
