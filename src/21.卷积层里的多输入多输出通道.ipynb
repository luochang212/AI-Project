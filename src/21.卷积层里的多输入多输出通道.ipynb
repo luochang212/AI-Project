{
 "cells": [
  {
   "cell_type": "markdown",
   "id": "f0e5ba26",
   "metadata": {},
   "source": [
    "# 卷积层里的多输入多输出通道\n",
    "\n",
    "\n",
    "## 多个输入通道\n",
    "\n",
    "每个通道都有一个卷积核，结果是所有通道卷积结果的和\n",
    "\n",
    "- 输入 $X: c_i \\times n_h \\times n_w$\n",
    "- 核 $W: c_i \\times k_h \\times k_w$\n",
    "- 输出 $Y: m_h \\times m_w$\n",
    "\n",
    "## 多个输出通道\n",
    "\n",
    "- 无论有多少输入通道，到目前为止我们只用到单输出通道\n",
    "- 我们可以有多个三维卷积核，每个核生成一个输出通道\n",
    "- 输入 $X: c_i \\times n_h \\times n_w$\n",
    "- 核 $W: c_o \\times c_i \\times k_h \\times k_w$\n",
    "- 输出 $Y: c_o \\times m_h \\times m_w$\n",
    "\n",
    "## 多个输入和输出通道\n",
    "\n",
    "- 每个输出通道可以识别特定模式：举例子，之前用特殊的核可以识别图像边缘\n",
    "- 输入通道核识别并组合输入中的模式：把上一层中多个识别模式加权组合起来\n",
    "\n",
    "## $1 \\times 1$ 卷积层\n",
    "\n",
    "$k_h = k_w = 1$ 是一个受欢迎的选择。它不识别空间模式，只是融合通道。\n",
    "\n",
    "相当于输入形状为 $n_h n_w \\times c_i$，权重为 $c_o \\times c_i$ 的全连接层\n",
    "\n",
    "## 二维卷积层\n",
    "\n",
    "- 输入 $X: c_i \\times n_h \\times n_w$\n",
    "- 核 $W: c_o \\times c_i \\times k_h \\times k_w$\n",
    "- 偏差 $B: $\n",
    "\n",
    "## 总结\n",
    "\n",
    "- 输出通道数是卷积层的超参数\n",
    "- 每个输入通道有独立的二维卷积核，所有通道结果想加得到一个输出通道结果\n",
    "- 每个输出通道有独立的三维卷积核\n",
    "\n"
   ]
  },
  {
   "cell_type": "code",
   "execution_count": null,
   "id": "feb2e7ce",
   "metadata": {},
   "outputs": [],
   "source": []
  },
  {
   "cell_type": "code",
   "execution_count": null,
   "id": "7ae6d14d",
   "metadata": {},
   "outputs": [],
   "source": []
  },
  {
   "cell_type": "code",
   "execution_count": null,
   "id": "6d3f2367",
   "metadata": {},
   "outputs": [],
   "source": []
  },
  {
   "cell_type": "code",
   "execution_count": null,
   "id": "15b22cbc",
   "metadata": {},
   "outputs": [],
   "source": []
  },
  {
   "cell_type": "code",
   "execution_count": null,
   "id": "c050dc8d",
   "metadata": {},
   "outputs": [],
   "source": []
  },
  {
   "cell_type": "code",
   "execution_count": null,
   "id": "a32c641d",
   "metadata": {},
   "outputs": [],
   "source": []
  },
  {
   "cell_type": "code",
   "execution_count": null,
   "id": "637f284e",
   "metadata": {},
   "outputs": [],
   "source": []
  },
  {
   "cell_type": "code",
   "execution_count": null,
   "id": "ac7298c0",
   "metadata": {},
   "outputs": [],
   "source": []
  },
  {
   "cell_type": "code",
   "execution_count": null,
   "id": "32f76921",
   "metadata": {},
   "outputs": [],
   "source": []
  }
 ],
 "metadata": {
  "kernelspec": {
   "display_name": "Python 3 (ipykernel)",
   "language": "python",
   "name": "python3"
  },
  "language_info": {
   "codemirror_mode": {
    "name": "ipython",
    "version": 3
   },
   "file_extension": ".py",
   "mimetype": "text/x-python",
   "name": "python",
   "nbconvert_exporter": "python",
   "pygments_lexer": "ipython3",
   "version": "3.11.4"
  }
 },
 "nbformat": 4,
 "nbformat_minor": 5
}
