{
 "cells": [
  {
   "cell_type": "markdown",
   "id": "98f71efa",
   "metadata": {},
   "source": [
    "# 卷积层里的填充和步幅\n",
    "\n",
    "\n",
    "- 给定 (32, 32) 输入图像\n",
    "- 应用 $5 \\times 5$ 大小的 卷积核\n",
    "    - 第1层得到输出大小 $28 \\times 28$\n",
    "    - 第7层得到输出大小 $4 \\times 4$\n",
    "- 更大的卷积核可以更快地减小输出大小\n",
    "    - 形状从 $n_h \\times n_w$ 减小到 $(n_h - k_h + 1) \\times (n_w - k_w + 1)$\n",
    "    \n",
    "希望能把卷积层做深一点，但是数据的长宽下降的太快怎么办。\n",
    "\n",
    "## 1. 填充\n",
    "\n",
    "在输入周围添加额外的 行/列\n",
    "\n",
    "- 填充 $p_h$ 行和 $p_w$ 列，输出形状为\n",
    "\n",
    "$(n_h - k_h + p_h + 1) \\times (n_w - k_w + p_w + 1)$\n",
    "\n",
    "- 通常取 $p_h = k_h - 1, p_w = k_w - 1$\n",
    "    - 当 $k_h$ 为奇数：在上下两侧填充 $p_h/2$\n",
    "    - 当 $k_h$ 为偶数：在上侧填充 $\\left\\lceil p_h / 2\\right\\rceil$，在下侧填充 $\\left\\lfloor p_h / 2\\right\\rfloor$\n",
    "    \n",
    "## 2. 步幅\n",
    "\n",
    "- 步幅是指行/列的滑动步长\n",
    "    - 例：高度3宽度2的步幅\n",
    "\n",
    "## 3. 总结\n",
    "\n",
    "- 填充和步幅是卷积层的超参数\n",
    "- 填充在输入周围添加额外的 行/列，来控制输出形状的减少量\n",
    "- 步幅是每次滑动核窗口时的 行/列 的步长，可以成倍地减少输出形状\n",
    "\n",
    "## 4.\n",
    "\n",
    "在所有侧边填充1个像素"
   ]
  },
  {
   "cell_type": "code",
   "execution_count": 3,
   "id": "1f2ad1ec",
   "metadata": {},
   "outputs": [
    {
     "data": {
      "text/plain": [
       "torch.Size([8, 8])"
      ]
     },
     "execution_count": 3,
     "metadata": {},
     "output_type": "execute_result"
    }
   ],
   "source": [
    "import torch\n",
    "from torch import nn\n",
    "\n",
    "def comp_conv2d(conv2d, X):\n",
    "    X = X.reshape((1, 1) + X.shape)  # (通道数1，批量大小1)\n",
    "    Y = conv2d(X)\n",
    "    return Y.reshape(Y.shape[2:])\n",
    "\n",
    "conv2d = nn.Conv2d(1, 1, kernel_size=3, padding=1)\n",
    "X = torch.rand(size=(8, 8))\n",
    "comp_conv2d(conv2d, X).shape"
   ]
  },
  {
   "cell_type": "code",
   "execution_count": null,
   "id": "d884071f",
   "metadata": {},
   "outputs": [],
   "source": []
  },
  {
   "cell_type": "code",
   "execution_count": null,
   "id": "96b89505",
   "metadata": {},
   "outputs": [],
   "source": []
  },
  {
   "cell_type": "code",
   "execution_count": null,
   "id": "ef61f141",
   "metadata": {},
   "outputs": [],
   "source": []
  },
  {
   "cell_type": "code",
   "execution_count": null,
   "id": "9156f5ae",
   "metadata": {},
   "outputs": [],
   "source": []
  },
  {
   "cell_type": "code",
   "execution_count": null,
   "id": "57905da3",
   "metadata": {},
   "outputs": [],
   "source": []
  },
  {
   "cell_type": "code",
   "execution_count": null,
   "id": "3e650187",
   "metadata": {},
   "outputs": [],
   "source": []
  },
  {
   "cell_type": "code",
   "execution_count": null,
   "id": "5d37501f",
   "metadata": {},
   "outputs": [],
   "source": []
  },
  {
   "cell_type": "code",
   "execution_count": null,
   "id": "ca16b827",
   "metadata": {},
   "outputs": [],
   "source": []
  }
 ],
 "metadata": {
  "kernelspec": {
   "display_name": "Python 3 (ipykernel)",
   "language": "python",
   "name": "python3"
  },
  "language_info": {
   "codemirror_mode": {
    "name": "ipython",
    "version": 3
   },
   "file_extension": ".py",
   "mimetype": "text/x-python",
   "name": "python",
   "nbconvert_exporter": "python",
   "pygments_lexer": "ipython3",
   "version": "3.11.4"
  }
 },
 "nbformat": 4,
 "nbformat_minor": 5
}
