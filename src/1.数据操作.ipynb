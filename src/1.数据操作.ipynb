{
 "cells": [
  {
   "cell_type": "code",
   "execution_count": 1,
   "id": "4d65f1b5",
   "metadata": {},
   "outputs": [],
   "source": [
    "import torch"
   ]
  },
  {
   "cell_type": "markdown",
   "id": "5ee8ea4f",
   "metadata": {},
   "source": [
    "## 初始化"
   ]
  },
  {
   "cell_type": "code",
   "execution_count": 2,
   "id": "9510f566",
   "metadata": {},
   "outputs": [
    {
     "data": {
      "text/plain": [
       "(tensor([ 0.,  1.,  2.,  3.,  4.,  5.,  6.,  7.,  8.,  9., 10., 11., 12., 13.,\n",
       "         14., 15., 16., 17., 18., 19.]),\n",
       " torch.Size([20]))"
      ]
     },
     "execution_count": 2,
     "metadata": {},
     "output_type": "execute_result"
    }
   ],
   "source": [
    "A = torch.arange(20, dtype=torch.float32)\n",
    "A, A.shape"
   ]
  },
  {
   "cell_type": "code",
   "execution_count": 3,
   "id": "a91a6e68",
   "metadata": {},
   "outputs": [
    {
     "data": {
      "text/plain": [
       "tensor([[0., 0., 0., 0., 0.],\n",
       "        [0., 0., 0., 0., 0.],\n",
       "        [0., 0., 0., 0., 0.]])"
      ]
     },
     "execution_count": 3,
     "metadata": {},
     "output_type": "execute_result"
    }
   ],
   "source": [
    "torch.zeros(3,5)"
   ]
  },
  {
   "cell_type": "code",
   "execution_count": 4,
   "id": "9f01609b",
   "metadata": {},
   "outputs": [
    {
     "data": {
      "text/plain": [
       "tensor([[1., 1., 1., 1., 1.],\n",
       "        [1., 1., 1., 1., 1.],\n",
       "        [1., 1., 1., 1., 1.]])"
      ]
     },
     "execution_count": 4,
     "metadata": {},
     "output_type": "execute_result"
    }
   ],
   "source": [
    "torch.ones(3,5)"
   ]
  },
  {
   "cell_type": "code",
   "execution_count": 5,
   "id": "dab1552f",
   "metadata": {},
   "outputs": [
    {
     "data": {
      "text/plain": [
       "tensor([[ 0.7693,  0.1634, -0.0622, -1.0391,  0.2158],\n",
       "        [ 0.0402,  0.9469,  1.6544,  0.1623,  0.1796],\n",
       "        [-1.5828, -0.2978,  0.2170,  1.0961, -0.0362]])"
      ]
     },
     "execution_count": 5,
     "metadata": {},
     "output_type": "execute_result"
    }
   ],
   "source": [
    "torch.randn(3,5)"
   ]
  },
  {
   "cell_type": "markdown",
   "id": "50f10262",
   "metadata": {},
   "source": [
    "可以把native的python list或numpy array，转换成tensor"
   ]
  },
  {
   "cell_type": "code",
   "execution_count": 6,
   "id": "2505ff06",
   "metadata": {},
   "outputs": [
    {
     "data": {
      "text/plain": [
       "tensor([1, 2, 3])"
      ]
     },
     "execution_count": 6,
     "metadata": {},
     "output_type": "execute_result"
    }
   ],
   "source": [
    "A1 = torch.tensor([1,2,3])\n",
    "A1"
   ]
  },
  {
   "cell_type": "code",
   "execution_count": 7,
   "id": "3a7fe1fe",
   "metadata": {},
   "outputs": [
    {
     "data": {
      "text/plain": [
       "tensor([[ 0.,  1.,  2.,  3.,  4.],\n",
       "        [ 5.,  6.,  7.,  8.,  9.],\n",
       "        [10., 11., 12., 13., 14.],\n",
       "        [15., 16., 17., 18., 19.]])"
      ]
     },
     "execution_count": 7,
     "metadata": {},
     "output_type": "execute_result"
    }
   ],
   "source": [
    "B = A.reshape(4,5)\n",
    "B"
   ]
  },
  {
   "cell_type": "markdown",
   "id": "fce7b5ff",
   "metadata": {},
   "source": [
    "##  tensor的方法"
   ]
  },
  {
   "cell_type": "markdown",
   "id": "c6a8dba2",
   "metadata": {},
   "source": [
    "按元素计算"
   ]
  },
  {
   "cell_type": "code",
   "execution_count": 8,
   "id": "5b393058",
   "metadata": {},
   "outputs": [
    {
     "name": "stdout",
     "output_type": "stream",
     "text": [
      "tensor(190.)\n",
      "tensor(9.5000)\n",
      "20\n"
     ]
    }
   ],
   "source": [
    "print(B.sum())  # 求和\n",
    "print(B.mean())  # 均值\n",
    "print(B.numel())  # 元素个数"
   ]
  },
  {
   "cell_type": "code",
   "execution_count": 9,
   "id": "5bb7ed72",
   "metadata": {},
   "outputs": [
    {
     "data": {
      "text/plain": [
       "tensor([[1.0000e+00, 2.7183e+00, 7.3891e+00, 2.0086e+01, 5.4598e+01],\n",
       "        [1.4841e+02, 4.0343e+02, 1.0966e+03, 2.9810e+03, 8.1031e+03],\n",
       "        [2.2026e+04, 5.9874e+04, 1.6275e+05, 4.4241e+05, 1.2026e+06],\n",
       "        [3.2690e+06, 8.8861e+06, 2.4155e+07, 6.5660e+07, 1.7848e+08]])"
      ]
     },
     "execution_count": 9,
     "metadata": {},
     "output_type": "execute_result"
    }
   ],
   "source": [
    "torch.exp(B)"
   ]
  },
  {
   "cell_type": "markdown",
   "id": "e44b603f",
   "metadata": {},
   "source": [
    "累加求和"
   ]
  },
  {
   "cell_type": "code",
   "execution_count": 10,
   "id": "b162719f",
   "metadata": {},
   "outputs": [
    {
     "data": {
      "text/plain": [
       "tensor([[ 0.,  1.,  2.,  3.,  4.],\n",
       "        [ 5.,  7.,  9., 11., 13.],\n",
       "        [15., 18., 21., 24., 27.],\n",
       "        [30., 34., 38., 42., 46.]])"
      ]
     },
     "execution_count": 10,
     "metadata": {},
     "output_type": "execute_result"
    }
   ],
   "source": [
    "B.cumsum(axis=0)"
   ]
  },
  {
   "cell_type": "code",
   "execution_count": 11,
   "id": "66240ee6",
   "metadata": {},
   "outputs": [
    {
     "data": {
      "text/plain": [
       "tensor([[ 0.,  1.,  3.,  6., 10.],\n",
       "        [ 5., 11., 18., 26., 35.],\n",
       "        [10., 21., 33., 46., 60.],\n",
       "        [15., 31., 48., 66., 85.]])"
      ]
     },
     "execution_count": 11,
     "metadata": {},
     "output_type": "execute_result"
    }
   ],
   "source": [
    "B.cumsum(axis=1)"
   ]
  },
  {
   "cell_type": "markdown",
   "id": "d9ec3756",
   "metadata": {},
   "source": [
    "## 矩阵运算"
   ]
  },
  {
   "cell_type": "markdown",
   "id": "8d7e264f",
   "metadata": {},
   "source": [
    "一些标准运算：`+`、`-`、`*`、`/`和`**`"
   ]
  },
  {
   "cell_type": "code",
   "execution_count": 12,
   "id": "be2c8dca",
   "metadata": {},
   "outputs": [
    {
     "data": {
      "text/plain": [
       "(tensor([1, 2, 3, 4]), tensor([2, 2, 3, 5]))"
      ]
     },
     "execution_count": 12,
     "metadata": {},
     "output_type": "execute_result"
    }
   ],
   "source": [
    "X = torch.tensor([1,2,3,4])\n",
    "Y = torch.tensor([2,2,3,5])\n",
    "X, Y"
   ]
  },
  {
   "cell_type": "code",
   "execution_count": 13,
   "id": "f0c850ae",
   "metadata": {},
   "outputs": [
    {
     "data": {
      "text/plain": [
       "tensor([3, 4, 6, 9])"
      ]
     },
     "execution_count": 13,
     "metadata": {},
     "output_type": "execute_result"
    }
   ],
   "source": [
    "X + Y"
   ]
  },
  {
   "cell_type": "code",
   "execution_count": 14,
   "id": "8650a1b8",
   "metadata": {},
   "outputs": [
    {
     "data": {
      "text/plain": [
       "tensor([-1,  0,  0, -1])"
      ]
     },
     "execution_count": 14,
     "metadata": {},
     "output_type": "execute_result"
    }
   ],
   "source": [
    "X - Y"
   ]
  },
  {
   "cell_type": "code",
   "execution_count": 15,
   "id": "63641281",
   "metadata": {},
   "outputs": [
    {
     "data": {
      "text/plain": [
       "tensor([ 2,  4,  9, 20])"
      ]
     },
     "execution_count": 15,
     "metadata": {},
     "output_type": "execute_result"
    }
   ],
   "source": [
    "X * Y"
   ]
  },
  {
   "cell_type": "code",
   "execution_count": 16,
   "id": "770e4429",
   "metadata": {},
   "outputs": [
    {
     "data": {
      "text/plain": [
       "tensor([0.5000, 1.0000, 1.0000, 0.8000])"
      ]
     },
     "execution_count": 16,
     "metadata": {},
     "output_type": "execute_result"
    }
   ],
   "source": [
    "X / Y"
   ]
  },
  {
   "cell_type": "code",
   "execution_count": 17,
   "id": "af5ebfab",
   "metadata": {},
   "outputs": [
    {
     "data": {
      "text/plain": [
       "tensor([   1,    4,   27, 1024])"
      ]
     },
     "execution_count": 17,
     "metadata": {},
     "output_type": "execute_result"
    }
   ],
   "source": [
    "X ** Y"
   ]
  },
  {
   "cell_type": "code",
   "execution_count": 18,
   "id": "c5bc9839",
   "metadata": {},
   "outputs": [
    {
     "data": {
      "text/plain": [
       "tensor([False,  True,  True, False])"
      ]
     },
     "execution_count": 18,
     "metadata": {},
     "output_type": "execute_result"
    }
   ],
   "source": [
    "X == Y"
   ]
  },
  {
   "cell_type": "markdown",
   "id": "2431f2a0",
   "metadata": {},
   "source": [
    "连结（concatenate）"
   ]
  },
  {
   "cell_type": "code",
   "execution_count": 19,
   "id": "ed338025",
   "metadata": {},
   "outputs": [
    {
     "data": {
      "text/plain": [
       "(tensor([[ 0.,  1.,  2.,  3.],\n",
       "         [ 4.,  5.,  6.,  7.],\n",
       "         [ 8.,  9., 10., 11.],\n",
       "         [ 2.,  1.,  4.,  3.],\n",
       "         [ 1.,  2.,  3.,  4.],\n",
       "         [ 4.,  3.,  2.,  1.]]),\n",
       " tensor([[ 0.,  1.,  2.,  3.,  2.,  1.,  4.,  3.],\n",
       "         [ 4.,  5.,  6.,  7.,  1.,  2.,  3.,  4.],\n",
       "         [ 8.,  9., 10., 11.,  4.,  3.,  2.,  1.]]))"
      ]
     },
     "execution_count": 19,
     "metadata": {},
     "output_type": "execute_result"
    }
   ],
   "source": [
    "X1 = torch.arange(12, dtype=torch.float32).reshape((3,4))\n",
    "Y1 = torch.tensor([[2.0, 1, 4, 3], [1, 2, 3, 4], [4, 3, 2, 1]])\n",
    "torch.cat((X1, Y1), dim=0), torch.cat((X1, Y1), dim=1)"
   ]
  },
  {
   "cell_type": "markdown",
   "id": "a1ec25dc",
   "metadata": {},
   "source": [
    "广播机制"
   ]
  },
  {
   "cell_type": "code",
   "execution_count": 20,
   "id": "4d504a54",
   "metadata": {},
   "outputs": [
    {
     "data": {
      "text/plain": [
       "(tensor([[0, 1]]),\n",
       " tensor([[1],\n",
       "         [2],\n",
       "         [3]]))"
      ]
     },
     "execution_count": 20,
     "metadata": {},
     "output_type": "execute_result"
    }
   ],
   "source": [
    "A2 = torch.tensor([0, 1]).reshape((1, 2))\n",
    "B2 = torch.tensor([1,2,3]).reshape((3, 1))\n",
    "A2, B2"
   ]
  },
  {
   "cell_type": "code",
   "execution_count": 21,
   "id": "a5a2457e",
   "metadata": {},
   "outputs": [
    {
     "data": {
      "text/plain": [
       "tensor([[1, 2],\n",
       "        [2, 3],\n",
       "        [3, 4]])"
      ]
     },
     "execution_count": 21,
     "metadata": {},
     "output_type": "execute_result"
    }
   ],
   "source": [
    "A2 + B2"
   ]
  },
  {
   "cell_type": "markdown",
   "id": "ebc2f124",
   "metadata": {},
   "source": [
    "两个矩阵按元素的乘法称为哈达玛积（Hadamard product）"
   ]
  },
  {
   "cell_type": "code",
   "execution_count": 22,
   "id": "8e974839",
   "metadata": {},
   "outputs": [
    {
     "data": {
      "text/plain": [
       "tensor([[  0.,   1.,   4.,   9.,  16.],\n",
       "        [ 25.,  36.,  49.,  64.,  81.],\n",
       "        [100., 121., 144., 169., 196.],\n",
       "        [225., 256., 289., 324., 361.]])"
      ]
     },
     "execution_count": 22,
     "metadata": {},
     "output_type": "execute_result"
    }
   ],
   "source": [
    "B * B"
   ]
  },
  {
   "cell_type": "code",
   "execution_count": 23,
   "id": "00935f18",
   "metadata": {},
   "outputs": [
    {
     "data": {
      "text/plain": [
       "(tensor([[ 0.,  1.,  2.,  3.,  4.],\n",
       "         [ 5.,  6.,  7.,  8.,  9.],\n",
       "         [10., 11., 12., 13., 14.],\n",
       "         [15., 16., 17., 18., 19.]]),\n",
       " tensor([[ 0.,  5., 10., 15.],\n",
       "         [ 1.,  6., 11., 16.],\n",
       "         [ 2.,  7., 12., 17.],\n",
       "         [ 3.,  8., 13., 18.],\n",
       "         [ 4.,  9., 14., 19.]]))"
      ]
     },
     "execution_count": 23,
     "metadata": {},
     "output_type": "execute_result"
    }
   ],
   "source": [
    "B, B.T  # 转置"
   ]
  },
  {
   "cell_type": "markdown",
   "id": "48a60003",
   "metadata": {},
   "source": [
    "点积（也称内积），点积是相同位置按元素乘积的和"
   ]
  },
  {
   "cell_type": "code",
   "execution_count": 24,
   "id": "c829848e",
   "metadata": {},
   "outputs": [
    {
     "data": {
      "text/plain": [
       "tensor([1, 2, 3, 4])"
      ]
     },
     "execution_count": 24,
     "metadata": {},
     "output_type": "execute_result"
    }
   ],
   "source": [
    "X"
   ]
  },
  {
   "cell_type": "code",
   "execution_count": 25,
   "id": "b8445c91",
   "metadata": {},
   "outputs": [
    {
     "data": {
      "text/plain": [
       "tensor(30)"
      ]
     },
     "execution_count": 25,
     "metadata": {},
     "output_type": "execute_result"
    }
   ],
   "source": [
    "torch.dot(X, X) # 1*1 + 2*2 + 3*3 + 4*4 = 30"
   ]
  },
  {
   "cell_type": "markdown",
   "id": "9bbba83b",
   "metadata": {},
   "source": [
    "等价的，点积也可以用如下方法计算"
   ]
  },
  {
   "cell_type": "code",
   "execution_count": 26,
   "id": "21af1992",
   "metadata": {},
   "outputs": [
    {
     "data": {
      "text/plain": [
       "tensor(30)"
      ]
     },
     "execution_count": 26,
     "metadata": {},
     "output_type": "execute_result"
    }
   ],
   "source": [
    "torch.sum(X * X)"
   ]
  },
  {
   "cell_type": "markdown",
   "id": "3555d9fe",
   "metadata": {},
   "source": [
    "矩阵向量积（mv）"
   ]
  },
  {
   "cell_type": "code",
   "execution_count": 27,
   "id": "57e4946e",
   "metadata": {},
   "outputs": [
    {
     "data": {
      "text/plain": [
       "(tensor([[0, 1, 2, 3],\n",
       "         [4, 5, 6, 7]]),\n",
       " tensor([1, 1, 2, 1]))"
      ]
     },
     "execution_count": 27,
     "metadata": {},
     "output_type": "execute_result"
    }
   ],
   "source": [
    "M = torch.arange(8).reshape((2,4))\n",
    "V = torch.tensor([1,1,2,1])\n",
    "M, V"
   ]
  },
  {
   "cell_type": "code",
   "execution_count": 28,
   "id": "0c5651c2",
   "metadata": {},
   "outputs": [
    {
     "data": {
      "text/plain": [
       "(torch.Size([2, 4]), torch.Size([4]))"
      ]
     },
     "execution_count": 28,
     "metadata": {},
     "output_type": "execute_result"
    }
   ],
   "source": [
    "M.shape, V.shape"
   ]
  },
  {
   "cell_type": "code",
   "execution_count": 29,
   "id": "2cab34c2",
   "metadata": {},
   "outputs": [
    {
     "data": {
      "text/plain": [
       "tensor([ 8, 28])"
      ]
     },
     "execution_count": 29,
     "metadata": {},
     "output_type": "execute_result"
    }
   ],
   "source": [
    "torch.mv(M, V)"
   ]
  },
  {
   "cell_type": "markdown",
   "id": "47603d09",
   "metadata": {},
   "source": [
    "矩阵（mm）"
   ]
  },
  {
   "cell_type": "code",
   "execution_count": 30,
   "id": "e983caff",
   "metadata": {},
   "outputs": [
    {
     "data": {
      "text/plain": [
       "tensor([[ 14,  38],\n",
       "        [ 38, 126]])"
      ]
     },
     "execution_count": 30,
     "metadata": {},
     "output_type": "execute_result"
    }
   ],
   "source": [
    "torch.mm(M, M.T)"
   ]
  },
  {
   "cell_type": "code",
   "execution_count": null,
   "id": "c867ba0e",
   "metadata": {},
   "outputs": [],
   "source": []
  },
  {
   "cell_type": "code",
   "execution_count": 31,
   "id": "9777c03f",
   "metadata": {},
   "outputs": [
    {
     "data": {
      "text/plain": [
       "(tensor([[ 1,  2,  3,  4],\n",
       "         [ 2,  4,  6,  8],\n",
       "         [ 3,  6,  9, 12],\n",
       "         [ 4,  8, 12, 16]]),\n",
       " tensor([[ 1,  2,  3,  4],\n",
       "         [ 2,  4,  6,  8],\n",
       "         [ 3,  6,  9, 12],\n",
       "         [ 4,  8, 12, 16]]))"
      ]
     },
     "execution_count": 31,
     "metadata": {},
     "output_type": "execute_result"
    }
   ],
   "source": [
    "torch.mul(X, X.reshape((4, 1))), torch.mul(X.reshape((4, 1)), X)"
   ]
  },
  {
   "cell_type": "code",
   "execution_count": 32,
   "id": "9b87a610",
   "metadata": {},
   "outputs": [
    {
     "data": {
      "text/plain": [
       "tensor([2, 4, 6, 8])"
      ]
     },
     "execution_count": 32,
     "metadata": {},
     "output_type": "execute_result"
    }
   ],
   "source": [
    "torch.mul(X, 2)  # 乘标量"
   ]
  },
  {
   "cell_type": "markdown",
   "id": "dde21ba1",
   "metadata": {},
   "source": [
    "## 轴"
   ]
  },
  {
   "cell_type": "code",
   "execution_count": 35,
   "id": "128b191a",
   "metadata": {},
   "outputs": [
    {
     "data": {
      "text/plain": [
       "torch.Size([2, 5, 4])"
      ]
     },
     "execution_count": 35,
     "metadata": {},
     "output_type": "execute_result"
    }
   ],
   "source": [
    "ax = torch.ones((2,5,4))\n",
    "ax.shape"
   ]
  },
  {
   "cell_type": "code",
   "execution_count": 38,
   "id": "47b44932",
   "metadata": {},
   "outputs": [
    {
     "data": {
      "text/plain": [
       "torch.Size([2, 4])"
      ]
     },
     "execution_count": 38,
     "metadata": {},
     "output_type": "execute_result"
    }
   ],
   "source": [
    "ax.sum(axis=1).shape"
   ]
  },
  {
   "cell_type": "code",
   "execution_count": 46,
   "id": "5a0e8bee",
   "metadata": {},
   "outputs": [
    {
     "data": {
      "text/plain": [
       "tensor([8., 8., 8., 8., 8.])"
      ]
     },
     "execution_count": 46,
     "metadata": {},
     "output_type": "execute_result"
    }
   ],
   "source": [
    "ax.sum(axis=[0,2])"
   ]
  },
  {
   "cell_type": "code",
   "execution_count": 47,
   "id": "a1b09a60",
   "metadata": {},
   "outputs": [
    {
     "data": {
      "text/plain": [
       "tensor([[[8.],\n",
       "         [8.],\n",
       "         [8.],\n",
       "         [8.],\n",
       "         [8.]]])"
      ]
     },
     "execution_count": 47,
     "metadata": {},
     "output_type": "execute_result"
    }
   ],
   "source": [
    "ax.sum(axis=[0,2], keepdims=True)"
   ]
  },
  {
   "cell_type": "markdown",
   "id": "e817cb15",
   "metadata": {},
   "source": [
    "## 范数"
   ]
  },
  {
   "cell_type": "code",
   "execution_count": 48,
   "id": "67cd368f",
   "metadata": {},
   "outputs": [
    {
     "data": {
      "text/plain": [
       "tensor(6.)"
      ]
     },
     "execution_count": 48,
     "metadata": {},
     "output_type": "execute_result"
    }
   ],
   "source": [
    "torch.norm(torch.ones((4, 9)))"
   ]
  },
  {
   "cell_type": "code",
   "execution_count": null,
   "id": "8f87baef",
   "metadata": {},
   "outputs": [],
   "source": []
  }
 ],
 "metadata": {
  "kernelspec": {
   "display_name": "Python 3 (ipykernel)",
   "language": "python",
   "name": "python3"
  },
  "language_info": {
   "codemirror_mode": {
    "name": "ipython",
    "version": 3
   },
   "file_extension": ".py",
   "mimetype": "text/x-python",
   "name": "python",
   "nbconvert_exporter": "python",
   "pygments_lexer": "ipython3",
   "version": "3.9.7"
  }
 },
 "nbformat": 4,
 "nbformat_minor": 5
}
