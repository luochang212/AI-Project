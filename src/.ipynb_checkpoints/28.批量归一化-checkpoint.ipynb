{
 "cells": [
  {
   "cell_type": "markdown",
   "id": "d7f6a105",
   "metadata": {},
   "source": [
    "# 批量归一化\n",
    "\n",
    "- 损失出现在最后，后面的层训练较快\n",
    "- 数据在最底部\n",
    "    - 底部的层训练较慢\n",
    "    - 底部层一变化，所有都得不跟着变\n",
    "    - 最后的那些层需要重新学习多次\n",
    "    - 导致收敛变慢\n",
    "- 我们可以在学习底部层的时候避免变化顶部层吗？\n",
    "\n",
    "```\n",
    "损失\n",
    "⬆\n",
    "⬇\n",
    "数据\n",
    "\n",
    "```\n",
    "\n",
    "\n",
    "## 1. 思路\n",
    "\n",
    "固定小批量里面的均值和方差\n",
    "\n",
    "$\\mu_B=\\frac{1}{|B|} \\sum_{i \\in B} x_i$ and $\\sigma_B^2=\\frac{1}{|B|} \\sum_{i \\in B}\\left(x_i-\\mu_B\\right)^2+\\epsilon$\n",
    "\n",
    "然后再做额外的调整（可学习的参数）\n",
    "\n",
    "$x_{i+1}=\\gamma \\frac{x_i-\\mu_B}{\\sigma_B}+\\beta$\n",
    "\n",
    "## 2. 批量归一化层\n",
    "\n",
    "- 可学习的参数为 $\\gamma$ 和 $\\beta$\n",
    "- 作用在：\n",
    "    - 全连接层和卷积层输出上，激活函数前\n",
    "    - 全连接层和卷积层输入上\n",
    "- 对全连接层，作用在特征维\n",
    "- 对于卷积层，作用在通道维\n",
    "\n",
    "## 3. 批量归一化在做什么？\n",
    "\n",
    "- 最初论文是想用它来减少内部协变量转移\n",
    "- 后续有论文指出它可能就是通过在每个小批量里加入噪音来控制模型复杂度\n",
    "\n",
    "$x_{i+1}=\\gamma \\frac{x_i-\\hat{\\mu}_B}{\\hat{\\sigma}_B}+\\beta$\n",
    "\n",
    "- $\\hat{\\mu}_B$: 随机偏移\n",
    "- $\\hat{\\sigma}_B$: 随机缩放\n",
    "\n",
    "\n",
    "- 因此没必要跟丢弃法混合使用\n",
    "\n",
    "## 4. 总结\n",
    "\n",
    "- 批量归一化固定小批量中的均值和方差，然后学习出合适的偏移和缩放\n",
    "- 可以加速收敛速度，但一般不改变模型精度\n",
    "- 允许用更大的学习率做训练\n"
   ]
  },
  {
   "cell_type": "code",
   "execution_count": null,
   "id": "70a025ce",
   "metadata": {},
   "outputs": [],
   "source": []
  },
  {
   "cell_type": "code",
   "execution_count": null,
   "id": "bc797f3c",
   "metadata": {},
   "outputs": [],
   "source": []
  },
  {
   "cell_type": "code",
   "execution_count": null,
   "id": "3b974ac7",
   "metadata": {},
   "outputs": [],
   "source": []
  },
  {
   "cell_type": "code",
   "execution_count": null,
   "id": "293aaa38",
   "metadata": {},
   "outputs": [],
   "source": []
  },
  {
   "cell_type": "code",
   "execution_count": null,
   "id": "4467d97d",
   "metadata": {},
   "outputs": [],
   "source": []
  },
  {
   "cell_type": "code",
   "execution_count": null,
   "id": "26b09a87",
   "metadata": {},
   "outputs": [],
   "source": []
  },
  {
   "cell_type": "code",
   "execution_count": null,
   "id": "42707d31",
   "metadata": {},
   "outputs": [],
   "source": []
  }
 ],
 "metadata": {
  "kernelspec": {
   "display_name": "Python 3 (ipykernel)",
   "language": "python",
   "name": "python3"
  },
  "language_info": {
   "codemirror_mode": {
    "name": "ipython",
    "version": 3
   },
   "file_extension": ".py",
   "mimetype": "text/x-python",
   "name": "python",
   "nbconvert_exporter": "python",
   "pygments_lexer": "ipython3",
   "version": "3.11.4"
  }
 },
 "nbformat": 4,
 "nbformat_minor": 5
}
