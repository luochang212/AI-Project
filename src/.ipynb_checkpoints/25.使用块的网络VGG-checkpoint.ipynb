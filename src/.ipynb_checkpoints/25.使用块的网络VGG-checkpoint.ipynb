{
 "cells": [
  {
   "cell_type": "markdown",
   "id": "c7513a1f",
   "metadata": {},
   "source": [
    "# VGG\n",
    "\n",
    "- AlexNet比LeNet更深更大来得到更好的精度\n",
    "- 能不能更深和更大？\n",
    "- 选项\n",
    "    - 更多的全连接层（太贵）\n",
    "    - 更多的卷积层\n",
    "    - 将卷积层组合成块\n",
    "    \n",
    "- 深 vs. 宽\n",
    "    - 5 $\\times$ 5 卷积\n",
    "    - 3 $\\times$ 3 卷积\n",
    "    - 深但窄效果更好\n",
    "- VGG块\n",
    "    - 3 $\\times$ 3 卷积（填充1，n层，m通道）\n",
    "    - 2 $\\times$ 2 最大池化层（步幅2）\n",
    "\n",
    "## 1. VGG架构\n",
    "\n",
    "- 多个VGG块后接全连接层\n",
    "- 不同次数的重复块得到不同的架构 VGG-16, VGG-19\n",
    "\n",
    "## 2. 进度\n",
    "\n",
    "- LeNet (1995)\n",
    "    - 2 卷积 + 池化层\n",
    "    - 2 全连接层\n",
    "- AlexNet\n",
    "    - 更大更深\n",
    "    - ReLU, Dropout, 数据增强\n",
    "- VGG\n",
    "    - 更大更深的AlexNet（重复的VGG块）\n",
    "    \n",
    "## 3. 总结\n",
    "\n",
    "- VGG使用可重复使用的卷积块来构建深度卷积神经网络\n",
    "- 不同的卷积块个数和超参数可以得到不同复杂度的变种\n"
   ]
  },
  {
   "cell_type": "code",
   "execution_count": null,
   "id": "74387b3e",
   "metadata": {},
   "outputs": [],
   "source": []
  },
  {
   "cell_type": "code",
   "execution_count": null,
   "id": "5c274c5c",
   "metadata": {},
   "outputs": [],
   "source": []
  },
  {
   "cell_type": "code",
   "execution_count": null,
   "id": "a676dad7",
   "metadata": {},
   "outputs": [],
   "source": []
  },
  {
   "cell_type": "code",
   "execution_count": null,
   "id": "584e841a",
   "metadata": {},
   "outputs": [],
   "source": []
  },
  {
   "cell_type": "code",
   "execution_count": null,
   "id": "abc69bf8",
   "metadata": {},
   "outputs": [],
   "source": []
  },
  {
   "cell_type": "code",
   "execution_count": null,
   "id": "df323d08",
   "metadata": {},
   "outputs": [],
   "source": []
  }
 ],
 "metadata": {
  "kernelspec": {
   "display_name": "Python 3 (ipykernel)",
   "language": "python",
   "name": "python3"
  },
  "language_info": {
   "codemirror_mode": {
    "name": "ipython",
    "version": 3
   },
   "file_extension": ".py",
   "mimetype": "text/x-python",
   "name": "python",
   "nbconvert_exporter": "python",
   "pygments_lexer": "ipython3",
   "version": "3.11.4"
  }
 },
 "nbformat": 4,
 "nbformat_minor": 5
}
