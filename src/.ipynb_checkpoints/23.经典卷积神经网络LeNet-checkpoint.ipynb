{
 "cells": [
  {
   "cell_type": "markdown",
   "id": "e37da220",
   "metadata": {},
   "source": [
    "# LeNet\n",
    "\n",
    "[LeNet](https://en.wikipedia.org/wiki/LeNet) is a convolutional neural network structure proposed by LeCun et al. in 1998.\n",
    "\n",
    "最早应用于手写数字识别。\n",
    "\n",
    "MNIST 是 LeNet 附带的数据集\n",
    "\n",
    "- 5w个训练数据\n",
    "- 1w个测试数据\n",
    "- 图像大小$28 \\times 28$\n",
    "- 10类\n",
    "\n",
    "![LeNet](../img/lenet-1.png)\n",
    "\n",
    "## 1. 小结\n",
    "\n",
    "- LeNet是早期成功的神经网络\n",
    "- 先使用卷积层来学习图片空间信息\n",
    "- 然后使用全连接层来转换到类别空间\n",
    "\n",
    "## 2. 卷积神经网络（LeNet）\n",
    "\n",
    "LeNet (LeNet-5) 由两个部分组成：卷积编码器和全连接层密集块"
   ]
  },
  {
   "cell_type": "code",
   "execution_count": null,
   "id": "87636fba",
   "metadata": {},
   "outputs": [],
   "source": []
  },
  {
   "cell_type": "markdown",
   "id": "a5d7a47b",
   "metadata": {},
   "source": [
    "## 3. 在Fashion-MNIST数据集上的表现"
   ]
  },
  {
   "cell_type": "code",
   "execution_count": null,
   "id": "30790dff",
   "metadata": {},
   "outputs": [],
   "source": []
  },
  {
   "cell_type": "code",
   "execution_count": null,
   "id": "600bfccf",
   "metadata": {},
   "outputs": [],
   "source": []
  },
  {
   "cell_type": "code",
   "execution_count": null,
   "id": "65dffafc",
   "metadata": {},
   "outputs": [],
   "source": []
  },
  {
   "cell_type": "code",
   "execution_count": null,
   "id": "a421dc35",
   "metadata": {},
   "outputs": [],
   "source": []
  },
  {
   "cell_type": "code",
   "execution_count": null,
   "id": "14d5b786",
   "metadata": {},
   "outputs": [],
   "source": []
  },
  {
   "cell_type": "code",
   "execution_count": null,
   "id": "ca668753",
   "metadata": {},
   "outputs": [],
   "source": []
  },
  {
   "cell_type": "code",
   "execution_count": null,
   "id": "3e80ffa5",
   "metadata": {},
   "outputs": [],
   "source": []
  },
  {
   "cell_type": "code",
   "execution_count": null,
   "id": "612df103",
   "metadata": {},
   "outputs": [],
   "source": []
  }
 ],
 "metadata": {
  "kernelspec": {
   "display_name": "Python 3 (ipykernel)",
   "language": "python",
   "name": "python3"
  },
  "language_info": {
   "codemirror_mode": {
    "name": "ipython",
    "version": 3
   },
   "file_extension": ".py",
   "mimetype": "text/x-python",
   "name": "python",
   "nbconvert_exporter": "python",
   "pygments_lexer": "ipython3",
   "version": "3.11.4"
  }
 },
 "nbformat": 4,
 "nbformat_minor": 5
}
