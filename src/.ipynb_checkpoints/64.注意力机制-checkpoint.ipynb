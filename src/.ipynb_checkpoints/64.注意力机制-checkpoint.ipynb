{
 "cells": [
  {
   "cell_type": "markdown",
   "id": "d4623921",
   "metadata": {},
   "source": [
    "# 注意力机制\n",
    "\n",
    "## 1.心理学\n",
    "\n",
    "- 动物需要在复杂环境下有效关注值得注意的点\n",
    "- 心理学框架：人类根据随意线索和不随意线索选择注意点\n",
    "    - 不随意：红色的很显眼的杯子\n",
    "    - 随意：突然想读书了，看书\n",
    "\n",
    "## 2.注意力机制\n",
    "\n",
    "- 卷积、全连接、池化层都只考虑不随意线索（池化是把最大的signal抽出来，容易抽的特征，都是比较饱和的颜色、比较大的画面元素...）\n",
    "- 注意力机制则显式地考虑随意线索\n",
    "    - 随意线索被称之为查询（query）\n",
    "    - 每个输入是一个值（value）和不随意线索（key）的对\n",
    "    - 通过注意力池化层来有偏向性地选择某些输入\n",
    "\n",
    "## 3.非参注意力池化层\n",
    "\n",
    "非参：我们不需要学参数\n",
    "\n",
    "- 给定数据 $(x_i, y_i), i = 1, ..., n$\n",
    "- 平均池化是最简单的方案：$f(x) = \\frac{1}{n} \\sum_{i} y_i$\n",
    "- 更好的方案是60年代提出来的Nadaraya-Watson核回归\n",
    "$$\n",
    "f(x)=\\sum_{i=1}^n \\frac{K\\left(x-x_i\\right)}{\\sum_{j=1}^n K\\left(x-x_j\\right)} y_i\n",
    "$$\n",
    "\n",
    "## 4.Nadaraya-Watson核回归\n",
    "\n",
    "- 使用高斯核 $K(u) = \\frac{1}{\\sqrt{2\\pi}} exp(- \\frac{u^2}{2})$\n",
    "- 那么\n",
    "\n",
    "$~~~~~~~~~~~~~\\begin{align} f(x) &= \\sum_{i=1}^{n} \\frac{exp\\left(- \\frac{1}{2} (x-x_i)^2 \\right)}{\\sum_{j=1}^{n} exp \\left(- \\frac{1}{2} (x-x_j)^2 \\right)} y_i \\\\ &= \\sum_{i=1}^{n} softmax \\left( - \\frac{1}{2} (x-x_i)^2 \\right) y_i \\end{align}$\n",
    "\n",
    "## 5.参数化的注意力机制\n",
    "\n",
    "- 在之前基础上引入可以学习的 $w$\n",
    "$$f(x) = \\sum_{i=1}^{n} softmax \\left( - \\frac{1}{2} ((x-x_i)w)^2 \\right)$$\n",
    "\n",
    "\n",
    "\n",
    "## 6.总结\n",
    "\n",
    "- 心理学认为人通过随意线索和不随意线索选择注意点\n",
    "- 注意力机制中，通过query（随意线索）和key（不随意线索）来有偏向性地选择输入\n",
    "    - 可以一般地写作 $f(x) = \\sum_{i} \\alpha(x, x_i) y_i$，这里$\\alpha(x, x_i)$是注意力权重\n",
    "    - 早在60年代就有非参数的注意力机制\n",
    "    - 接下来我们会介绍多个不同的权重设计\n"
   ]
  },
  {
   "cell_type": "code",
   "execution_count": null,
   "id": "6a658979",
   "metadata": {},
   "outputs": [],
   "source": []
  }
 ],
 "metadata": {
  "kernelspec": {
   "display_name": "Python 3 (ipykernel)",
   "language": "python",
   "name": "python3"
  },
  "language_info": {
   "codemirror_mode": {
    "name": "ipython",
    "version": 3
   },
   "file_extension": ".py",
   "mimetype": "text/x-python",
   "name": "python",
   "nbconvert_exporter": "python",
   "pygments_lexer": "ipython3",
   "version": "3.11.4"
  }
 },
 "nbformat": 4,
 "nbformat_minor": 5
}
