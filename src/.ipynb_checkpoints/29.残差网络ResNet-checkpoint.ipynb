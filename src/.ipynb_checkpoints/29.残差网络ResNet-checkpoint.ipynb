{
 "cells": [
  {
   "cell_type": "markdown",
   "id": "b0316e89",
   "metadata": {},
   "source": [
    "# 残差网络\n",
    "\n",
    "加更多的层总是改进精度吗？\n",
    "\n",
    "- Non-nested funciton classes\n",
    "- Nested funciton classes\n",
    "\n",
    "## 残差块\n",
    "\n",
    "- 串联一个层改变函数类，我们希望能扩大函数类\n",
    "- 残差块加入快速通道（右边）来得到 $f(x) = x + g(x)$ 的结构\n",
    "\n",
    "## ResNet架构\n",
    "\n",
    "- 类似VGG和GoogLeNet的总体架构\n",
    "- 但替换成了ResNet块\n",
    "\n",
    "## 总结\n",
    "\n",
    "- 残差块使得很深的网络更加容易训练\n",
    "    - 甚至可以训练一千层的网络\n",
    "- 残差网络对随后的深层神经网络设计产生了深远影响，无论是卷积类网络还是全连接类网络\n"
   ]
  },
  {
   "cell_type": "code",
   "execution_count": null,
   "id": "bb91e958",
   "metadata": {},
   "outputs": [],
   "source": []
  },
  {
   "cell_type": "code",
   "execution_count": null,
   "id": "848be312",
   "metadata": {},
   "outputs": [],
   "source": []
  },
  {
   "cell_type": "code",
   "execution_count": null,
   "id": "4e1d2677",
   "metadata": {},
   "outputs": [],
   "source": []
  },
  {
   "cell_type": "code",
   "execution_count": null,
   "id": "6c486594",
   "metadata": {},
   "outputs": [],
   "source": []
  },
  {
   "cell_type": "code",
   "execution_count": null,
   "id": "9b995c11",
   "metadata": {},
   "outputs": [],
   "source": []
  },
  {
   "cell_type": "code",
   "execution_count": null,
   "id": "37d74745",
   "metadata": {},
   "outputs": [],
   "source": []
  }
 ],
 "metadata": {
  "kernelspec": {
   "display_name": "Python 3 (ipykernel)",
   "language": "python",
   "name": "python3"
  },
  "language_info": {
   "codemirror_mode": {
    "name": "ipython",
    "version": 3
   },
   "file_extension": ".py",
   "mimetype": "text/x-python",
   "name": "python",
   "nbconvert_exporter": "python",
   "pygments_lexer": "ipython3",
   "version": "3.11.4"
  }
 },
 "nbformat": 4,
 "nbformat_minor": 5
}
