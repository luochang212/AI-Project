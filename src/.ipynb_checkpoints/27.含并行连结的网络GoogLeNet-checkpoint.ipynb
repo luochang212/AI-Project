{
 "cells": [
  {
   "cell_type": "markdown",
   "id": "808e21cc",
   "metadata": {},
   "source": [
    "# 含并行连结的网络（GoogLeNet）\n",
    "\n",
    "## 1. Inception块\n",
    "\n",
    "4 个路径从不同层面抽取信息，然后在输出通道维合并\n",
    "\n",
    "跟单 3 $\\times$ 3 或 5 $\\times$ 5 卷积层比，Inception块有更少的参数个数和计算复杂度\n",
    "\n",
    "Inception不改变高宽，只改变通道数\n",
    "\n",
    "\n",
    "\n",
    "## 2. GoogLeNet架构\n",
    "\n",
    "- 5段，9个Inception块\n",
    "\n",
    "## 3. Inception有各种后续变种\n",
    "\n",
    "- Inception—BN (v2) - 使用batch normalization\n",
    "- Inception-V3 - 修改了Inception块\n",
    "    - 替换 5 $\\times$ 5 为多个 3 $\\times$ 3 卷积层\n",
    "    - 替换 5 $\\times$ 5 为 1 $\\times$ 7 和 7 $\\times$ 1 卷积层\n",
    "    - 替换 3 $\\times$ 3 为 1 $\\times$ 3 和 3 $\\times$ 1 卷积层\n",
    "    - 更深\n",
    "- Inception-V4 - 使用残差连接\n",
    "\n",
    "## 4. 总结\n",
    "\n",
    "- Inception块用4条有不同超参数的卷积层和池化层的路来抽取不同的信息\n",
    "    - 它的一个主要优点是模型参数小，计算复杂度低\n",
    "- GoogLeNet使用了9个Inception块，是第一个达到上百层的网络\n",
    "    - 后续有一系列改进\n"
   ]
  },
  {
   "cell_type": "code",
   "execution_count": null,
   "id": "07678760",
   "metadata": {},
   "outputs": [],
   "source": []
  }
 ],
 "metadata": {
  "kernelspec": {
   "display_name": "Python 3 (ipykernel)",
   "language": "python",
   "name": "python3"
  },
  "language_info": {
   "codemirror_mode": {
    "name": "ipython",
    "version": 3
   },
   "file_extension": ".py",
   "mimetype": "text/x-python",
   "name": "python",
   "nbconvert_exporter": "python",
   "pygments_lexer": "ipython3",
   "version": "3.11.4"
  }
 },
 "nbformat": 4,
 "nbformat_minor": 5
}
