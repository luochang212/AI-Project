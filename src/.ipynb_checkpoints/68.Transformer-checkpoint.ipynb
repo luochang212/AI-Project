{
 "cells": [
  {
   "cell_type": "markdown",
   "id": "5960b474",
   "metadata": {},
   "source": [
    "# Transformer\n",
    "\n",
    "## 1.Transformer架构\n",
    "\n",
    "- 基于编码器-解码器架构来处理序列对\n",
    "- 跟使用注意力的seq2seq不同，Transformer是纯基于注意力\n",
    "\n",
    "## 2.多头注意力\n",
    "\n",
    "- 对同一key, value, query，希望抽取不同的信息\n",
    "    - 例如短距离关系和长距离关系\n",
    "- 多头注意力使用 $h$ 个独立的注意力池化\n",
    "    - 合并各个头（head）输出得到最终输出"
   ]
  },
  {
   "cell_type": "code",
   "execution_count": null,
   "id": "fe49d20b",
   "metadata": {},
   "outputs": [],
   "source": []
  },
  {
   "cell_type": "code",
   "execution_count": null,
   "id": "d709a457",
   "metadata": {},
   "outputs": [],
   "source": []
  },
  {
   "cell_type": "code",
   "execution_count": null,
   "id": "4f14910d",
   "metadata": {},
   "outputs": [],
   "source": []
  },
  {
   "cell_type": "code",
   "execution_count": null,
   "id": "f2b89392",
   "metadata": {},
   "outputs": [],
   "source": []
  },
  {
   "cell_type": "code",
   "execution_count": null,
   "id": "bd0cf0ed",
   "metadata": {},
   "outputs": [],
   "source": []
  },
  {
   "cell_type": "code",
   "execution_count": null,
   "id": "96a20564",
   "metadata": {},
   "outputs": [],
   "source": []
  },
  {
   "cell_type": "code",
   "execution_count": null,
   "id": "54285564",
   "metadata": {},
   "outputs": [],
   "source": []
  }
 ],
 "metadata": {
  "kernelspec": {
   "display_name": "Python 3 (ipykernel)",
   "language": "python",
   "name": "python3"
  },
  "language_info": {
   "codemirror_mode": {
    "name": "ipython",
    "version": 3
   },
   "file_extension": ".py",
   "mimetype": "text/x-python",
   "name": "python",
   "nbconvert_exporter": "python",
   "pygments_lexer": "ipython3",
   "version": "3.11.4"
  }
 },
 "nbformat": 4,
 "nbformat_minor": 5
}
