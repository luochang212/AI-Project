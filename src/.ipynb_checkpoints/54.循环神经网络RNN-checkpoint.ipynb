{
 "cells": [
  {
   "cell_type": "markdown",
   "id": "ccff618d",
   "metadata": {},
   "source": [
    "# 循环神经网络RNN\n",
    "\n",
    "## 1.潜变量自回归模型\n",
    "\n",
    "使用潜变量 $h_t$ 总结过去信息\n",
    "\n",
    "$p(h_t | h_{t-1}, x_{t-1})$\n",
    "\n",
    "$p(x_t | h_{t}, x_{t-1})$\n",
    "\n",
    "## 2.循环神经网络\n",
    "\n",
    "- 更新隐藏状态：$\\mathbf{h}_t=\\phi\\left(\\mathbf{W}_{h h} \\mathbf{h}_{t-1}+\\mathbf{W}_{h x} \\mathbf{x}_{t-1}+\\mathbf{b}_h\\right)$\n",
    "- 输出：$\\mathbf{o}_t=\\phi\\left(\\mathbf{W}_{h o} \\mathbf{h}_t+\\mathbf{b}_o\\right)$\n",
    "\n",
    "## 3.困惑度 (perplexity)\n",
    "\n",
    "- 衡量一个语言模型的好坏可以用平均交叉熵\n",
    "$$\\pi=\\frac{1}{n} \\sum_{i=1}^n-\\log p\\left(x_t \\mid x_{t-1}, \\ldots\\right)$$\n",
    "$p$是语言模型的预测概率，x_t是真实词\n",
    "- 历史原因NLP使用困惑度$exp(\\pi)$来衡量，是平均每次可能选项\n",
    "    - 1表示完美，无穷大是最差情况\n",
    "    \n",
    "## 4.梯度裁剪\n",
    "\n",
    "- 迭代中计算这$T$个时间步上的梯度，在反向传播过程中产生长度为$O(T)$的矩阵乘法链，导致数值不稳定\n",
    "- 梯度裁剪能有效预防梯度爆炸\n",
    "    - 如果梯度长度超过 $\\theta$，那么投影回长度 $\\theta$\n",
    "$$\n",
    "\\mathbf{g} \\leftarrow \\min \\left(1, \\frac{\\theta}{\\|\\mathbf{g}\\|}\\right) \\mathbf{g}\n",
    "$$\n",
    "\n",
    "## 5.更多的应用RNNs\n",
    "\n",
    "- 文本生成\n",
    "- 文本分类\n",
    "- 问答、机器翻译\n",
    "- Tag生成\n",
    "\n",
    "## 6.总结\n",
    "\n",
    "- 循环神经网络的输出取决于当下输入和前一时间的隐变量\n",
    "- 应用到语言模型中时，循环神经网络根据当前词预测下一次时刻词\n",
    "- 通常使用困惑度来衡量语言模型的好坏"
   ]
  },
  {
   "cell_type": "code",
   "execution_count": null,
   "id": "e78b1841",
   "metadata": {},
   "outputs": [],
   "source": []
  }
 ],
 "metadata": {
  "kernelspec": {
   "display_name": "Python 3 (ipykernel)",
   "language": "python",
   "name": "python3"
  },
  "language_info": {
   "codemirror_mode": {
    "name": "ipython",
    "version": 3
   },
   "file_extension": ".py",
   "mimetype": "text/x-python",
   "name": "python",
   "nbconvert_exporter": "python",
   "pygments_lexer": "ipython3",
   "version": "3.11.4"
  }
 },
 "nbformat": 4,
 "nbformat_minor": 5
}
